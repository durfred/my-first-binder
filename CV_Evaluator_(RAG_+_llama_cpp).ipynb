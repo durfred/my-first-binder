{
  "nbformat": 4,
  "nbformat_minor": 0,
  "metadata": {
    "colab": {
      "provenance": [],
      "authorship_tag": "ABX9TyNd9E6twTQGAQjYnpijs4lY",
      "include_colab_link": true
    },
    "kernelspec": {
      "name": "python3",
      "display_name": "Python 3"
    },
    "language_info": {
      "name": "python"
    }
  },
  "cells": [
    {
      "cell_type": "markdown",
      "metadata": {
        "id": "view-in-github",
        "colab_type": "text"
      },
      "source": [
        "<a href=\"https://colab.research.google.com/github/durfred/my-first-binder/blob/main/CV_Evaluator_(RAG_%2B_llama_cpp).ipynb\" target=\"_parent\"><img src=\"https://colab.research.google.com/assets/colab-badge.svg\" alt=\"Open In Colab\"/></a>"
      ]
    },
    {
      "cell_type": "code",
      "execution_count": null,
      "metadata": {
        "id": "BbhIzUyXzBBh"
      },
      "outputs": [],
      "source": [
        "!pip install datasets sentence-transformers faiss-cpu llama-cpp-python --quiet\n"
      ]
    },
    {
      "cell_type": "code",
      "source": [
        "from sentence_transformers import SentenceTransformer\n",
        "from sklearn.metrics.pairwise import cosine_similarity\n",
        "import numpy as np\n",
        "\n",
        "class RAGEngine:\n",
        "    def __init__(self, docs):\n",
        "        self.embedder = SentenceTransformer(\"all-MiniLM-L6-v2\")\n",
        "        self.docs = docs\n",
        "        self.embeddings = self.embedder.encode(docs)\n",
        "\n",
        "    def retrieve(self, query, top_k=3):\n",
        "        q_embed = self.embedder.encode([query])\n",
        "        scores = cosine_similarity(q_embed, self.embeddings)[0]\n",
        "        top_idxs = np.argsort(scores)[-top_k:][::-1]\n",
        "        return [self.docs[i] for i in top_idxs]\n"
      ],
      "metadata": {
        "id": "9WfpgmYV0fZU"
      },
      "execution_count": 20,
      "outputs": []
    },
    {
      "cell_type": "code",
      "source": [
        "!wget https://huggingface.co/codegood/gemma-2b-it-Q4_K_M-GGUF/resolve/main/gemma-2b-it.Q4_K_M.gguf"
      ],
      "metadata": {
        "id": "PnNKmtgn7e1E"
      },
      "execution_count": null,
      "outputs": []
    },
    {
      "cell_type": "code",
      "source": [
        "from llama_cpp import Llama\n",
        "\n",
        "llm = Llama(model_path=\"gemma-2b-it.Q4_K_M.gguf\", n_ctx=2048)\n",
        "\n",
        "def query_model(prompt):\n",
        "    response = llm(prompt, max_tokens=256)\n",
        "    return response[\"choices\"][0][\"text\"]\n",
        "\n"
      ],
      "metadata": {
        "id": "s5pXiYUb2vmz"
      },
      "execution_count": null,
      "outputs": []
    },
    {
      "cell_type": "code",
      "source": [
        "from sentence_transformers import SentenceTransformer\n",
        "import faiss\n",
        "\n",
        "# Embedding model\n",
        "embedder = SentenceTransformer(\"all-MiniLM-L6-v2\")\n",
        "\n",
        "# Simulated knowledge base (can replace with UK job guide text)\n",
        "knowledge_docs = [\n",
        "    \"Civil Service Level 3 requires experience in policy development, written communication, and working with stakeholders.\",\n",
        "    \"Software Engineer should know Python, Git, and agile development practices.\",\n",
        "    \"Project Managers are expected to manage budgets, timelines, and interdepartmental coordination.\",\n",
        "    \"Data analysts should demonstrate SQL, Excel, and experience with government datasets.\"\n",
        "]\n",
        "\n",
        "# Build FAISS index\n",
        "doc_embeddings = embedder.encode(knowledge_docs)\n",
        "index = faiss.IndexFlatL2(doc_embeddings.shape[1])\n",
        "index.add(doc_embeddings)\n"
      ],
      "metadata": {
        "id": "VxwQdowt8R1A"
      },
      "execution_count": 25,
      "outputs": []
    },
    {
      "cell_type": "code",
      "source": [
        "import numpy as np\n",
        "\n",
        "def retrieve_context(query, k=3):\n",
        "    query_embed = embedder.encode([query])\n",
        "    _, indices = index.search(np.array(query_embed), k)\n",
        "    return \"\\n\".join([knowledge_docs[i] for i in indices[0]])\n",
        "\n",
        "def build_prompt(jd, cv, context):\n",
        "    return f\"\"\"\n",
        "You are a UK government HR specialist.\n",
        "\n",
        "--- Context Knowledge ---\n",
        "{context}\n",
        "\n",
        "--- Job Description ---\n",
        "{jd}\n",
        "\n",
        "--- Candidate CV ---\n",
        "{cv}\n",
        "\n",
        "Evaluate the CV against the job:\n",
        "1. Estimate match percentage\n",
        "2. Matching skills or points\n",
        "3. Missing or weak points\n",
        "4. Suggestions to improve the CV\n",
        "\n",
        "Return the result in JSON format.\n",
        "\"\"\"\n",
        "\n",
        "def evaluate_cv(jd, cv):\n",
        "    context = retrieve_context(jd + \"\\n\" + cv)\n",
        "    prompt = build_prompt(jd, cv, context)\n",
        "    response = llm(prompt, max_tokens=512)\n",
        "    return response[\"choices\"][0][\"text\"]\n"
      ],
      "metadata": {
        "id": "o4yMCLvf8tb0"
      },
      "execution_count": 26,
      "outputs": []
    },
    {
      "cell_type": "code",
      "source": [
        "import gradio as gr\n",
        "\n",
        "iface = gr.Interface(\n",
        "    fn=evaluate_cv,\n",
        "    inputs=[\n",
        "        gr.Textbox(label=\"Job Description\", lines=6),\n",
        "        gr.Textbox(label=\"Candidate CV\", lines=12)\n",
        "    ],\n",
        "    outputs=\"text\",\n",
        "    title=\"📄 CV Evaluator (RAG + llama.cpp)\",\n",
        "    description=\"Evaluates how well a CV matches a job description using local Mistral + vector RAG.\"\n",
        ")\n",
        "\n",
        "iface.launch(share=True)\n"
      ],
      "metadata": {
        "id": "OBnkYcrA810Z"
      },
      "execution_count": null,
      "outputs": []
    }
  ]
}