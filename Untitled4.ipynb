{
  "nbformat": 4,
  "nbformat_minor": 0,
  "metadata": {
    "colab": {
      "provenance": [],
      "authorship_tag": "ABX9TyM+r0Mb6xe+zn/5CXAtA/fF",
      "include_colab_link": true
    },
    "kernelspec": {
      "name": "python3",
      "display_name": "Python 3"
    },
    "language_info": {
      "name": "python"
    }
  },
  "cells": [
    {
      "cell_type": "markdown",
      "metadata": {
        "id": "view-in-github",
        "colab_type": "text"
      },
      "source": [
        "<a href=\"https://colab.research.google.com/github/durfred/my-first-binder/blob/main/Untitled4.ipynb\" target=\"_parent\"><img src=\"https://colab.research.google.com/assets/colab-badge.svg\" alt=\"Open In Colab\"/></a>"
      ]
    },
    {
      "cell_type": "code",
      "execution_count": 2,
      "metadata": {
        "colab": {
          "base_uri": "https://localhost:8080/"
        },
        "id": "kw43i-_l7jiE",
        "outputId": "71925d9b-2de9-48d3-f259-8d06e69021a9"
      },
      "outputs": [
        {
          "output_type": "stream",
          "name": "stdout",
          "text": [
            "n (data points): 1000, p (features): 20\n",
            "\n",
            "Logistic Regression            ⏱ 0.0040 sec | Accuracy: 0.88\n",
            "Decision Tree                  ⏱ 0.0286 sec | Accuracy: 1.00\n",
            "Naive Bayes                    ⏱ 0.0015 sec | Accuracy: 0.84\n",
            "Dense Neural Net (MLP)         ⏱ 0.1675 sec | Accuracy: 0.89\n",
            "Linear Regression              ⏱ 0.0820 sec | Accuracy: 1.00\n",
            "K-Means Clustering             ⏱ 0.0570 sec\n"
          ]
        }
      ],
      "source": [
        "import numpy as np\n",
        "from time import time\n",
        "from sklearn.datasets import make_classification, make_regression\n",
        "from sklearn.linear_model import LogisticRegression, LinearRegression\n",
        "from sklearn.tree import DecisionTreeClassifier\n",
        "from sklearn.naive_bayes import GaussianNB\n",
        "from sklearn.neural_network import MLPClassifier\n",
        "from sklearn.cluster import KMeans\n",
        "\n",
        "# Generate classification data\n",
        "X_cls, y_cls = make_classification(n_samples=1000, n_features=20, random_state=42)\n",
        "print(f\"n (data points): {X_cls.shape[0]}, p (features): {X_cls.shape[1]}\\n\")\n",
        "\n",
        "def benchmark(name, model, X, y=None):\n",
        "    start = time()\n",
        "    model.fit(X, y) if y is not None else model.fit(X)\n",
        "    elapsed = time() - start\n",
        "    print(f\"{name:<30} ⏱ {elapsed:.4f} sec\", end='')\n",
        "    if y is not None and hasattr(model, \"score\"):\n",
        "        print(f\" | Accuracy: {model.score(X, y):.2f}\")\n",
        "    else:\n",
        "        print()\n",
        "\n",
        "benchmark(\"Logistic Regression\", LogisticRegression(max_iter=500, solver='liblinear'), X_cls, y_cls)\n",
        "benchmark(\"Decision Tree\", DecisionTreeClassifier(), X_cls, y_cls)\n",
        "benchmark(\"Naive Bayes\", GaussianNB(), X_cls, y_cls)\n",
        "benchmark(\"Dense Neural Net (MLP)\", MLPClassifier(hidden_layer_sizes=(50,), max_iter=200, early_stopping=True), X_cls, y_cls)\n",
        "\n",
        "# Regression\n",
        "X_reg, y_reg = make_regression(n_samples=1000, n_features=20, random_state=42)\n",
        "benchmark(\"Linear Regression\", LinearRegression(), X_reg, y_reg)\n",
        "\n",
        "# Clustering (unsupervised)\n",
        "benchmark(\"K-Means Clustering\", KMeans(n_clusters=3, random_state=42, n_init=10), X_cls)\n"
      ]
    }
  ]
}